{
 "cells": [
  {
   "cell_type": "markdown",
   "id": "0f3a20f0",
   "metadata": {},
   "source": [
    "# Write a program to swap two numbers wihout using a third variable"
   ]
  },
  {
   "cell_type": "code",
   "execution_count": 1,
   "id": "ac6a2acb",
   "metadata": {},
   "outputs": [
    {
     "name": "stdout",
     "output_type": "stream",
     "text": [
      "Enter the value of a: 43\n",
      "Enter the value of b: 27\n",
      "\n",
      "The initial value of a is 43\n",
      "The initial value of b is 27\n",
      "\n",
      "The updated value of a is 27\n",
      "The updated value of b is 43\n"
     ]
    }
   ],
   "source": [
    "a=int(input(\"Enter the value of a: \"))\n",
    "b=int(input(\"Enter the value of b: \"))\n",
    "print(\"\\nThe initial value of a is\",a)\n",
    "print(\"The initial value of b is\",b)\n",
    "a,b=b,a\n",
    "print(\"\\nThe updated value of a is\",a)\n",
    "print(\"The updated value of b is\",b)"
   ]
  },
  {
   "cell_type": "markdown",
   "id": "048308e8",
   "metadata": {},
   "source": [
    "# Write a program to add, subtract, multiply and divide two numbers"
   ]
  },
  {
   "cell_type": "code",
   "execution_count": 2,
   "id": "601057bb",
   "metadata": {},
   "outputs": [
    {
     "name": "stdout",
     "output_type": "stream",
     "text": [
      "Enter first number: 30\n",
      "Enter second number: 20\n",
      "\n",
      "x + y =  50\n",
      "x - y =  10\n",
      "x * y =  600\n",
      "x / y =  1.5\n"
     ]
    }
   ],
   "source": [
    "x=int(input(\"Enter first number: \"))\n",
    "y=int(input(\"Enter second number: \"))\n",
    "print(\"\\nx + y = \",x+y)\n",
    "print(\"x - y = \",x-y)\n",
    "print(\"x * y = \",x*y)\n",
    "print(\"x / y = \",x/y)"
   ]
  },
  {
   "cell_type": "markdown",
   "id": "4ea21f8c",
   "metadata": {},
   "source": [
    "# Write a program to get the obtained marks and the total marks and calculate the percentage"
   ]
  },
  {
   "cell_type": "code",
   "execution_count": 3,
   "id": "0b9ba37d",
   "metadata": {},
   "outputs": [
    {
     "name": "stdout",
     "output_type": "stream",
     "text": [
      "Enter the marks obationed: 418\n",
      "Enter the total marks: 500\n",
      "The student obtained 83.6%\n"
     ]
    }
   ],
   "source": [
    "om=int(input(\"Enter the marks obationed: \"))\n",
    "tm=int(input(\"Enter the total marks: \"))\n",
    "percent=om/tm*100\n",
    "print(\"The student obtained \"+str(percent)+\"%\")"
   ]
  },
  {
   "cell_type": "markdown",
   "id": "b0f2db5d",
   "metadata": {},
   "source": [
    "# Write a program to take the temperature in centigrade and display the temperature in fahrenheit"
   ]
  },
  {
   "cell_type": "code",
   "execution_count": 4,
   "id": "f571143e",
   "metadata": {},
   "outputs": [
    {
     "name": "stdout",
     "output_type": "stream",
     "text": [
      "Enter the temperature in centigrade: 37.7\n",
      "The temperature in farhenheit is 99.86000000000001\n"
     ]
    }
   ],
   "source": [
    "centigrade=float(input(\"Enter the temperature in centigrade: \"))\n",
    "farhenheit=centigrade*1.8+32\n",
    "print(\"The temperature in farhenheit is \"+str(farhenheit))"
   ]
  },
  {
   "cell_type": "markdown",
   "id": "25f6b50a",
   "metadata": {},
   "source": [
    "# Write a program in python to get the number of days and display years, months, weeks, and days"
   ]
  },
  {
   "cell_type": "code",
   "execution_count": 5,
   "id": "85035943",
   "metadata": {},
   "outputs": [
    {
     "name": "stdout",
     "output_type": "stream",
     "text": [
      "Enter the number of days: 529\n",
      "1 years\n",
      "5 months\n",
      "2 weeks\n",
      "0 days\n"
     ]
    }
   ],
   "source": [
    "days=int(input(\"Enter the number of days: \"))\n",
    "years=days//365\n",
    "months=(days-(years*365))//30\n",
    "weeks=(days-(years*365)-(months*30))//7\n",
    "days=days-(years*365)-(months*30)-(weeks*7)\n",
    "print(str(years)+\" years\")\n",
    "print(str(months)+\" months\")\n",
    "print(str(weeks)+\" weeks\")\n",
    "print(str(days)+\" days\")"
   ]
  },
  {
   "cell_type": "markdown",
   "id": "6b54133d",
   "metadata": {},
   "source": [
    "# Write a program to get the principal, rate of interest and time and calculate simple interest and compound interest"
   ]
  },
  {
   "cell_type": "code",
   "execution_count": 6,
   "id": "829c7fd6",
   "metadata": {},
   "outputs": [
    {
     "name": "stdout",
     "output_type": "stream",
     "text": [
      "Enter the principal amount:1000\n",
      "Enter the rate of interest per annum:10\n",
      "Enter the time in years:10\n",
      "Simple Interest = 1000.0\n",
      "Compound Interest = 1593.7424601000025\n"
     ]
    }
   ],
   "source": [
    "p=float(input(\"Enter the principal amount:\"))\n",
    "r=float(input(\"Enter the rate of interest per annum:\"))\n",
    "t=float(input(\"Enter the time in years:\"))\n",
    "si=p*r*t/100\n",
    "print(\"Simple Interest = \"+str(si))\n",
    "ci=p*(1+(r/100))**t-p\n",
    "print(\"Compound Interest = \"+str(ci))"
   ]
  },
  {
   "cell_type": "markdown",
   "id": "57b8909d",
   "metadata": {},
   "source": [
    "# Write a program in python to implement &, |, ^, << and >> operators"
   ]
  },
  {
   "cell_type": "code",
   "execution_count": 7,
   "id": "52ffa0e0",
   "metadata": {},
   "outputs": [
    {
     "name": "stdout",
     "output_type": "stream",
     "text": [
      "Enter a number:85\n",
      "Enter another number:37\n",
      "a & b =  5\n",
      "a | b =  117\n",
      "a ^ b =  112\n",
      "a << 1 =  170\n",
      "b >> 1 =  18\n"
     ]
    }
   ],
   "source": [
    "a=int(input(\"Enter a number:\"))\n",
    "b=int(input(\"Enter another number:\"))\n",
    "print(\"a & b = \",a&b)\n",
    "print(\"a | b = \",a|b)\n",
    "print(\"a ^ b = \",a^b)\n",
    "print(\"a << 1 = \",a<<1)\n",
    "print(\"b >> 1 = \",b>>1)"
   ]
  },
  {
   "cell_type": "markdown",
   "id": "4c2b3917",
   "metadata": {},
   "source": [
    "# Write a program to take a number and calculate its square root, floor and ceil values"
   ]
  },
  {
   "cell_type": "code",
   "execution_count": 8,
   "id": "4b4ab2d4",
   "metadata": {},
   "outputs": [
    {
     "name": "stdout",
     "output_type": "stream",
     "text": [
      "Enter a number: 48.25\n",
      "6.946221994724902\n",
      "48\n",
      "49\n"
     ]
    }
   ],
   "source": [
    "import math\n",
    "num=float(input(\"Enter a number: \"))\n",
    "print(math.sqrt(num))\n",
    "print(math.floor(num))\n",
    "print(math.ceil(num))"
   ]
  }
 ],
 "metadata": {
  "kernelspec": {
   "display_name": "Python 3",
   "language": "python",
   "name": "python3"
  },
  "language_info": {
   "codemirror_mode": {
    "name": "ipython",
    "version": 3
   },
   "file_extension": ".py",
   "mimetype": "text/x-python",
   "name": "python",
   "nbconvert_exporter": "python",
   "pygments_lexer": "ipython3",
   "version": "3.8.8"
  }
 },
 "nbformat": 4,
 "nbformat_minor": 5
}
